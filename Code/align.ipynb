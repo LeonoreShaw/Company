{
 "cells": [
  {
   "cell_type": "code",
   "execution_count": null,
   "id": "27323791",
   "metadata": {},
   "outputs": [],
   "source": [
    "import pandas as pd\n",
    "import numpy as np\n",
    "\n",
    "def align_csv(input_file, output_file, base_time_col=0):\n",
    "    \"\"\"\n",
    "    input_file: 输入 CSV 文件路径\n",
    "    output_file: 输出对齐后的 CSV 文件路径\n",
    "    base_time_col: 基准时间戳所在的列索引 (0, 2, 4, ...) \n",
    "                   表示选择哪一列时间戳作为基准\n",
    "    \"\"\"\n",
    "    # 读取原始 CSV（不自动推测表头）\n",
    "    df = pd.read_csv(input_file, header=None)\n",
    "\n",
    "    # 提取基准时间戳\n",
    "    base_time = df.iloc[:, base_time_col]\n",
    "\n",
    "    # 新 DataFrame 存放结果\n",
    "    aligned_df = pd.DataFrame()\n",
    "    aligned_df['time'] = base_time\n",
    "\n",
    "    # 遍历每对时间戳 + 数值列\n",
    "    for i in range(0, df.shape[1], 2):\n",
    "        time_col = df.iloc[:, i]\n",
    "        value_col = df.iloc[:, i + 1]\n",
    "\n",
    "        # 去重 + 排序（避免插值出错）\n",
    "        temp = pd.DataFrame({'time': time_col, 'value': value_col}).dropna()\n",
    "        temp = temp.drop_duplicates(subset='time').sort_values('time')\n",
    "\n",
    "        # 用基准时间对齐并插值\n",
    "        aligned = pd.Series(\n",
    "            np.interp(base_time, temp['time'], temp['value']), \n",
    "            index=base_time\n",
    "        )\n",
    "\n",
    "        aligned_df[f'value_{i//2+1}'] = aligned\n",
    "\n",
    "    # 保存结果\n",
    "    aligned_df.to_csv(output_file, index=False)\n",
    "    print(f\"已完成对齐，结果保存至 {output_file}\")\n"
   ]
  },
  {
   "cell_type": "code",
   "execution_count": null,
   "id": "c9e379c5",
   "metadata": {
    "vscode": {
     "languageId": "html"
    }
   },
   "outputs": [
    {
     "name": "stdout",
     "output_type": "stream",
     "text": [
      "\n",
      "<!DOCTYPE html>\n",
      "<html>\n",
      "<head>\n",
      "    <title>CSV 对齐工具</title>\n",
      "</head>\n",
      "<body>\n",
      "    <h1>CSV 对齐工具</h1>\n",
      "    <form action=\"/align\" method=\"post\" enctype=\"multipart/form-data\">\n",
      "        <label for=\"input_file\">选择CSV文件:</label>\n",
      "        <input type=\"file\" id=\"input_file\" name=\"input_file\" accept=\".csv\"><br><br>\n",
      "        <label for=\"base_time_col\">基准时间戳列索引:</label>\n",
      "        <input type=\"number\" id=\"base_time_col\" name=\"base_time_col\" value=\"0\" min=\"0\"><br><br>\n",
      "        <input type=\"submit\" value=\"对齐并下载\">\n",
      "    </form>\n",
      "</body>\n",
      "</html>\n",
      "\n"
     ]
    }
   ],
   "source": [
    "<!DOCTYPE html>\n",
    "<html>\n",
    "<head>\n",
    "    <title>CSV 对齐工具</title>\n",
    "</head>\n",
    "<body>\n",
    "    <h1>CSV 对齐工具</h1>\n",
    "    <form action=\"/align\" method=\"post\" enctype=\"multipart/form-data\">\n",
    "        <label for=\"input_file\">选择CSV文件:</label>\n",
    "        <input type=\"file\" id=\"input_file\" name=\"input_file\" accept=\".csv\"><br><br>\n",
    "        <label for=\"base_time_col\">基准时间戳列索引:</label>\n",
    "        <input type=\"number\" id=\"base_time_col\" name=\"base_time_col\" value=\"0\" min=\"0\"><br><br>\n",
    "        <input type=\"submit\" value=\"对齐并下载\">\n",
    "    </form>\n",
    "</body>\n",
    "</html>\n"
   ]
  },
  {
   "cell_type": "code",
   "execution_count": null,
   "id": "e3ff7af4",
   "metadata": {},
   "outputs": [],
   "source": []
  }
 ],
 "metadata": {
  "kernelspec": {
   "display_name": ".v (3.13.3)",
   "language": "python",
   "name": "python3"
  },
  "language_info": {
   "codemirror_mode": {
    "name": "ipython",
    "version": 3
   },
   "file_extension": ".py",
   "mimetype": "text/x-python",
   "name": "python",
   "nbconvert_exporter": "python",
   "pygments_lexer": "ipython3",
   "version": "3.13.3"
  }
 },
 "nbformat": 4,
 "nbformat_minor": 5
}
