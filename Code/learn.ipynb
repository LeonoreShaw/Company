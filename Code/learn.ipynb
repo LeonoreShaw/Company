{
 "cells": [
  {
   "cell_type": "markdown",
   "id": "422fbf52",
   "metadata": {},
   "source": [
    "# python 基础"
   ]
  },
  {
   "cell_type": "code",
   "execution_count": 1,
   "id": "e48c9689",
   "metadata": {},
   "outputs": [
    {
     "name": "stdout",
     "output_type": "stream",
     "text": [
      "姓名: 张三, total = 13.50\n",
      "squares: [1, 4, 9, 16, 25]\n",
      "1 1\n",
      "2 4\n",
      "3 9\n",
      "4 16\n",
      "5 25\n",
      "person: {'name': '张三', 'age': 10}\n",
      "10 / 2 = 5.0\n",
      "10 / 0 = None\n",
      "sorted pairs: [('b', 1), ('c', 2), ('a', 3)]\n"
     ]
    }
   ],
   "source": [
    "# 变量与基本类型\n",
    "a = 10\n",
    "b = 3.5\n",
    "name = \"张三\"\n",
    "is_student = True\n",
    "\n",
    "# 算术与字符串格式化\n",
    "total = a + b\n",
    "print(f\"姓名: {name}, total = {total:.2f}\")\n",
    "\n",
    "# 列表与列表推导式\n",
    "nums = [1, 2, 3, 4, 5]\n",
    "squares = [x * x for x in nums]\n",
    "print(\"squares:\", squares)\n",
    "\n",
    "# 循环与枚举\n",
    "for idx, val in enumerate(squares, start=1):\n",
    "    print(idx, val)\n",
    "\n",
    "# 字典的使用\n",
    "person = {\"name\": name, \"age\": a}\n",
    "print(\"person:\", person)\n",
    "\n",
    "# 函数与异常处理\n",
    "def divide(x, y):\n",
    "    try:\n",
    "        return x / y\n",
    "    except ZeroDivisionError:\n",
    "        return None\n",
    "\n",
    "print(\"10 / 2 =\", divide(10, 2))\n",
    "print(\"10 / 0 =\", divide(10, 0))\n",
    "\n",
    "# lambda 与排序示例\n",
    "pairs = [(\"a\", 3), (\"b\", 1), (\"c\", 2)]\n",
    "pairs_sorted = sorted(pairs, key=lambda p: p[1])\n",
    "print(\"sorted pairs:\", pairs_sorted)"
   ]
  },
  {
   "cell_type": "code",
   "execution_count": null,
   "id": "5e642762",
   "metadata": {},
   "outputs": [],
   "source": []
  }
 ],
 "metadata": {
  "kernelspec": {
   "display_name": ".v (3.13.3)",
   "language": "python",
   "name": "python3"
  },
  "language_info": {
   "codemirror_mode": {
    "name": "ipython",
    "version": 3
   },
   "file_extension": ".py",
   "mimetype": "text/x-python",
   "name": "python",
   "nbconvert_exporter": "python",
   "pygments_lexer": "ipython3",
   "version": "3.13.3"
  }
 },
 "nbformat": 4,
 "nbformat_minor": 5
}
