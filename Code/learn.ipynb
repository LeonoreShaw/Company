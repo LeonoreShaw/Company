{
 "cells": [
  {
   "cell_type": "markdown",
   "id": "422fbf52",
   "metadata": {},
   "source": [
    "# python 基础"
   ]
  },
  {
   "cell_type": "code",
   "execution_count": 1,
   "id": "e48c9689",
   "metadata": {},
   "outputs": [
    {
     "name": "stdout",
     "output_type": "stream",
     "text": [
      "姓名: 张三, total = 13.50\n",
      "squares: [1, 4, 9, 16, 25]\n",
      "1 1\n",
      "2 4\n",
      "3 9\n",
      "4 16\n",
      "5 25\n",
      "person: {'name': '张三', 'age': 10}\n",
      "10 / 2 = 5.0\n",
      "10 / 0 = None\n",
      "sorted pairs: [('b', 1), ('c', 2), ('a', 3)]\n"
     ]
    }
   ],
   "source": [
    "# 变量与基本类型\n",
    "a = 10\n",
    "b = 3.5\n",
    "name = \"张三\"\n",
    "is_student = True\n",
    "\n",
    "# 算术与字符串格式化\n",
    "total = a + b\n",
    "print(f\"姓名: {name}, total = {total:.2f}\")\n",
    "\n",
    "# 列表与列表推导式\n",
    "nums = [1, 2, 3, 4, 5]\n",
    "squares = [x * x for x in nums]\n",
    "print(\"squares:\", squares)\n",
    "\n",
    "# 循环与枚举\n",
    "for idx, val in enumerate(squares, start=1):\n",
    "    print(idx, val)\n",
    "\n",
    "# 字典的使用\n",
    "person = {\"name\": name, \"age\": a}\n",
    "print(\"person:\", person)\n",
    "\n",
    "# 函数与异常处理\n",
    "def divide(x, y):\n",
    "    try:\n",
    "        return x / y\n",
    "    except ZeroDivisionError:\n",
    "        return None\n",
    "\n",
    "print(\"10 / 2 =\", divide(10, 2))\n",
    "print(\"10 / 0 =\", divide(10, 0))\n",
    "\n",
    "# lambda 与排序示例\n",
    "pairs = [(\"a\", 3), (\"b\", 1), (\"c\", 2)]\n",
    "pairs_sorted = sorted(pairs, key=lambda p: p[1])\n",
    "print(\"sorted pairs:\", pairs_sorted)"
   ]
  },
  {
   "cell_type": "code",
   "execution_count": 3,
   "id": "5e36aa8d",
   "metadata": {},
   "outputs": [
    {
     "name": "stdout",
     "output_type": "stream",
     "text": [
      "Hello, world!\n",
      "a = 10\n",
      "a + b = 13.5\n",
      "姓名: 张三 总分: 13.5\n",
      "Hello world\n",
      "a = 10 b = 3.5\n",
      "A-B-C!\n"
     ]
    }
   ],
   "source": [
    "# print() 函数用于将内容输出到控制台。\n",
    "# 它可以输出字符串、变量、表达式等，多个内容用逗号分隔会自动加空格。\n",
    "# 例如：\n",
    "print(\"Hello, world!\")           # 输出字符串\n",
    "print(\"a =\", a)                  # 输出变量\n",
    "print(\"a + b =\", a + b)          # 输出表达式结果\n",
    "print(\"姓名:\", name, \"总分:\", total)  # 同时输出多个内容\n",
    "\n",
    "# print() 默认参数：sep=\" \"（空格），end=\"\\n\"（换行）\n",
    "print(\"Hello\", \"world\")  # 默认以空格分隔，结尾换行\n",
    "print(\"a =\", a, \"b =\", b)\n",
    "print(\"A\", \"B\", \"C\", sep=\"-\", end=\"!\\n\")  # 输出：A-B-C!"
   ]
  },
  {
   "cell_type": "code",
   "execution_count": 4,
   "id": "c2d2cb94",
   "metadata": {},
   "outputs": [
    {
     "name": "stdout",
     "output_type": "stream",
     "text": [
      "Series from list:\n",
      " 0    1\n",
      "1    2\n",
      "2    3\n",
      "3    4\n",
      "4    5\n",
      "dtype: int64\n",
      "\n",
      "Series from dict:\n",
      " name    张三\n",
      "age     10\n",
      "dtype: object\n",
      "\n",
      "Series values: [1 2 3 4 5]\n",
      "Series index: RangeIndex(start=0, stop=5, step=1)\n",
      "Series dtype: int64\n",
      "\n",
      "First element: 1\n",
      "First three elements:\n",
      " 0    1\n",
      "1    2\n",
      "2    3\n",
      "dtype: int64\n"
     ]
    }
   ],
   "source": [
    "import pandas as pd\n",
    "\n",
    "# 通过列表创建 Series\n",
    "s = pd.Series(nums)\n",
    "print(\"Series from list:\\n\", s)\n",
    "\n",
    "# 通过字典创建 Series\n",
    "s_dict = pd.Series(person)\n",
    "print(\"\\nSeries from dict:\\n\", s_dict)\n",
    "\n",
    "# Series 的基本属性\n",
    "print(\"\\nSeries values:\", s.values)\n",
    "print(\"Series index:\", s.index)\n",
    "print(\"Series dtype:\", s.dtype)\n",
    "\n",
    "# Series 支持索引和切片\n",
    "print(\"\\nFirst element:\", s[0])\n",
    "print(\"First three elements:\\n\", s[:3])"
   ]
  },
  {
   "cell_type": "code",
   "execution_count": 5,
   "id": "7c8cf101",
   "metadata": {},
   "outputs": [
    {
     "name": "stdout",
     "output_type": "stream",
     "text": [
      "s 的描述性统计：\n",
      " count    5.000000\n",
      "mean     3.000000\n",
      "std      1.581139\n",
      "min      1.000000\n",
      "25%      2.000000\n",
      "50%      3.000000\n",
      "75%      4.000000\n",
      "max      5.000000\n",
      "dtype: float64\n",
      "\n",
      "s > 2 的元素：\n",
      " 2    3\n",
      "3    4\n",
      "4    5\n",
      "dtype: int64\n",
      "\n",
      "s 每个元素平方：\n",
      " 0     1\n",
      "1     4\n",
      "2     9\n",
      "3    16\n",
      "4    25\n",
      "dtype: int64\n",
      "\n",
      "含缺失值的 Series：\n",
      " 0    1.0\n",
      "1    2.0\n",
      "2    NaN\n",
      "3    4.0\n",
      "4    5.0\n",
      "dtype: float64\n",
      "缺失值填充为 0：\n",
      " 0    1.0\n",
      "1    2.0\n",
      "2    0.0\n",
      "3    4.0\n",
      "4    5.0\n",
      "dtype: float64\n",
      "\n",
      "s + s2：\n",
      " 0    11\n",
      "1    22\n",
      "2    33\n",
      "3    44\n",
      "4    55\n",
      "dtype: int64\n"
     ]
    }
   ],
   "source": [
    "import numpy as np\n",
    "\n",
    "# Series 高阶操作示例\n",
    "\n",
    "# 统计描述\n",
    "print(\"s 的描述性统计：\\n\", s.describe())\n",
    "\n",
    "# 条件筛选\n",
    "print(\"\\ns > 2 的元素：\\n\", s[s > 2])\n",
    "\n",
    "# 应用函数\n",
    "print(\"\\ns 每个元素平方：\\n\", s.apply(lambda x: x ** 2))\n",
    "\n",
    "# 缺失值处理\n",
    "s_nan = s.copy()\n",
    "s_nan[2] = np.nan\n",
    "print(\"\\n含缺失值的 Series：\\n\", s_nan)\n",
    "print(\"缺失值填充为 0：\\n\", s_nan.fillna(0))\n",
    "\n",
    "# Series 对齐运算\n",
    "s2 = pd.Series([10, 20, 30, 40, 50], index=[0, 1, 2, 3, 4])\n",
    "print(\"\\ns + s2：\\n\", s + s2)"
   ]
  },
  {
   "cell_type": "code",
   "execution_count": 6,
   "id": "c573b867",
   "metadata": {},
   "outputs": [
    {
     "name": "stdout",
     "output_type": "stream",
     "text": [
      "重建索引后的 Series:\n",
      " 4    5\n",
      "3    4\n",
      "2    3\n",
      "1    2\n",
      "0    1\n",
      "dtype: int64\n",
      "s * 10:\n",
      " 0    10\n",
      "1    20\n",
      "2    30\n",
      "3    40\n",
      "4    50\n",
      "dtype: int64\n",
      "s + [10, 20, 30, 40, 50]:\n",
      " 0    11\n",
      "1    22\n",
      "2    33\n",
      "3    44\n",
      "4    55\n",
      "dtype: int64\n",
      "s_nan 是否缺失:\n",
      " 0    False\n",
      "1    False\n",
      "2     True\n",
      "3    False\n",
      "4    False\n",
      "dtype: bool\n",
      "按值排序:\n",
      " 0    1\n",
      "1    2\n",
      "2    3\n",
      "3    4\n",
      "4    5\n",
      "dtype: int64\n",
      "按索引排序:\n",
      " 4    5\n",
      "3    4\n",
      "2    3\n",
      "1    2\n",
      "0    1\n",
      "dtype: int64\n",
      "唯一值: [1 2 3 4 5]\n",
      "各值出现次数:\n",
      " 1    1\n",
      "2    1\n",
      "3    1\n",
      "4    1\n",
      "5    1\n",
      "Name: count, dtype: int64\n",
      "最大值: 5 索引: 4\n",
      "最小值: 1 索引: 0\n",
      "转为字典: {0: 1, 1: 2, 2: 3, 3: 4, 4: 5}\n",
      "转为列表: [1, 2, 3, 4, 5]\n",
      "转为 numpy 数组: [1 2 3 4 5]\n"
     ]
    }
   ],
   "source": [
    "# Pandas Series 常用知识补充\n",
    "\n",
    "# 1. 索引与重建索引\n",
    "s_reindexed = s.reindex([4, 3, 2, 1, 0])\n",
    "print(\"重建索引后的 Series:\\n\", s_reindexed)\n",
    "\n",
    "# 2. Series 与标量/数组运算\n",
    "print(\"s * 10:\\n\", s * 10)\n",
    "print(\"s + [10, 20, 30, 40, 50]:\\n\", s + [10, 20, 30, 40, 50])\n",
    "\n",
    "# 3. 判断缺失值\n",
    "print(\"s_nan 是否缺失:\\n\", s_nan.isna())\n",
    "\n",
    "# 4. Series 排序\n",
    "print(\"按值排序:\\n\", s.sort_values())\n",
    "print(\"按索引排序:\\n\", s.sort_index(ascending=False))\n",
    "\n",
    "# 5. 唯一值与计数\n",
    "print(\"唯一值:\", s.unique())\n",
    "print(\"各值出现次数:\\n\", s.value_counts())\n",
    "\n",
    "# 6. 取最大/最小值及其索引\n",
    "print(\"最大值:\", s.max(), \"索引:\", s.idxmax())\n",
    "print(\"最小值:\", s.min(), \"索引:\", s.idxmin())\n",
    "\n",
    "# 7. 转为字典、列表、numpy 数组\n",
    "print(\"转为字典:\", s.to_dict())\n",
    "print(\"转为列表:\", s.tolist())\n",
    "print(\"转为 numpy 数组:\", s.values)"
   ]
  },
  {
   "cell_type": "code",
   "execution_count": 7,
   "id": "2df6e3be",
   "metadata": {},
   "outputs": [
    {
     "name": "stdout",
     "output_type": "stream",
     "text": [
      "DataFrame:\n",
      "    姓名  年龄  成绩\n",
      "0  张三  20  88\n",
      "1  李四  21  92\n",
      "2  王五  19  85\n",
      "\n",
      "shape: (3, 3)\n",
      "columns: Index(['姓名', '年龄', '成绩'], dtype='object')\n",
      "index: RangeIndex(start=0, stop=3, step=1)\n",
      "dtypes:\n",
      " 姓名    object\n",
      "年龄     int64\n",
      "成绩     int64\n",
      "dtype: object\n",
      "\n",
      "第一行:\n",
      " 姓名    张三\n",
      "年龄    20\n",
      "成绩    88\n",
      "Name: 0, dtype: object\n",
      "姓名列:\n",
      " 0    张三\n",
      "1    李四\n",
      "2    王五\n",
      "Name: 姓名, dtype: object\n",
      "前两行:\n",
      "    姓名  年龄  成绩\n",
      "0  张三  20  88\n",
      "1  李四  21  92\n",
      "\n",
      "筛选成绩大于 85:\n",
      "    姓名  年龄  成绩\n",
      "0  张三  20  88\n",
      "1  李四  21  92\n",
      "\n",
      "描述性统计:\n",
      "          年龄         成绩\n",
      "count   3.0   3.000000\n",
      "mean   20.0  88.333333\n",
      "std     1.0   3.511885\n",
      "min    19.0  85.000000\n",
      "25%    19.5  86.500000\n",
      "50%    20.0  88.000000\n",
      "75%    20.5  90.000000\n",
      "max    21.0  92.000000\n",
      "\n",
      "新增及格列:\n",
      "    姓名  年龄  成绩    及格\n",
      "0  张三  20  88  True\n",
      "1  李四  21  92  True\n",
      "2  王五  19  85  True\n",
      "\n",
      "含缺失值:\n",
      "    姓名  年龄    成绩    及格\n",
      "0  张三  20  88.0  True\n",
      "1  李四  21   NaN  True\n",
      "2  王五  19  85.0  True\n",
      "缺失值填充为 0:\n",
      "    姓名  年龄    成绩    及格\n",
      "0  张三  20  88.0  True\n",
      "1  李四  21   0.0  True\n",
      "2  王五  19  85.0  True\n"
     ]
    }
   ],
   "source": [
    "# Pandas DataFrame 基础知识\n",
    "\n",
    "# 1. 创建 DataFrame\n",
    "df = pd.DataFrame({\n",
    "    '姓名': ['张三', '李四', '王五'],\n",
    "    '年龄': [20, 21, 19],\n",
    "    '成绩': [88, 92, 85]\n",
    "})\n",
    "print(\"DataFrame:\\n\", df)\n",
    "\n",
    "# 2. 查看基本信息\n",
    "print(\"\\nshape:\", df.shape)         # 行数和列数\n",
    "print(\"columns:\", df.columns)       # 列名\n",
    "print(\"index:\", df.index)           # 索引\n",
    "print(\"dtypes:\\n\", df.dtypes)       # 每列数据类型\n",
    "\n",
    "# 3. 访问数据\n",
    "print(\"\\n第一行:\\n\", df.iloc[0])    # 按位置\n",
    "print(\"姓名列:\\n\", df['姓名'])      # 按列名\n",
    "print(\"前两行:\\n\", df.head(2))      # 多行\n",
    "\n",
    "# 4. 条件筛选\n",
    "print(\"\\n筛选成绩大于 85:\\n\", df[df['成绩'] > 85])\n",
    "\n",
    "# 5. 描述性统计\n",
    "print(\"\\n描述性统计:\\n\", df.describe())\n",
    "\n",
    "# 6. 新增/修改列\n",
    "df['及格'] = df['成绩'] >= 60\n",
    "print(\"\\n新增及格列:\\n\", df)\n",
    "\n",
    "# 7. 缺失值处理\n",
    "df.loc[1, '成绩'] = None\n",
    "print(\"\\n含缺失值:\\n\", df)\n",
    "print(\"缺失值填充为 0:\\n\", df.fillna(0))"
   ]
  },
  {
   "cell_type": "code",
   "execution_count": 10,
   "id": "63acf4ea",
   "metadata": {},
   "outputs": [
    {
     "name": "stdout",
     "output_type": "stream",
     "text": [
      "选取姓名和成绩两列:\n",
      "    姓名    成绩\n",
      "0  张三  88.0\n",
      "1  李四   NaN\n",
      "2  王五  85.0\n",
      "\n",
      "新增一行:\n",
      "    姓名  年龄    成绩    及格\n",
      "0  张三  20  88.0  True\n",
      "1  李四  21   NaN  True\n",
      "2  王五  19  85.0  True\n",
      "3  赵六  22  90.0  True\n",
      "\n",
      "删除第 0 行:\n",
      "    姓名  年龄    成绩    及格\n",
      "1  李四  21   NaN  True\n",
      "2  王五  19  85.0  True\n",
      "删除 '及格' 列:\n",
      "    姓名  年龄    成绩\n",
      "0  张三  20  88.0\n",
      "1  李四  21   NaN\n",
      "2  王五  19  85.0\n",
      "\n",
      "检测缺失值:\n",
      "       姓名     年龄     成绩     及格\n",
      "0  False  False  False  False\n",
      "1  False  False   True  False\n",
      "2  False  False  False  False\n",
      "删除含缺失值的行:\n",
      "    姓名  年龄    成绩    及格\n",
      "0  张三  20  88.0  True\n",
      "2  王五  19  85.0  True\n",
      "\n",
      "按及格分组统计平均成绩:\n",
      " 及格\n",
      "True    86.5\n",
      "Name: 成绩, dtype: float64\n",
      "\n",
      "按成绩降序排序:\n",
      "    姓名  年龄    成绩    及格\n",
      "0  张三  20  88.0  True\n",
      "2  王五  19  85.0  True\n",
      "1  李四  21   NaN  True\n",
      "\n",
      "重命名列:\n",
      "   Name  年龄  Score    及格\n",
      "0   张三  20   88.0  True\n",
      "1   李四  21    NaN  True\n",
      "2   王五  19   85.0  True\n",
      "\n",
      "以姓名为索引:\n",
      "     年龄    成绩    及格\n",
      "姓名                \n",
      "张三  20  88.0  True\n",
      "李四  21   NaN  True\n",
      "王五  19  85.0  True\n",
      "\n",
      "透视表示例:\n",
      "         成绩\n",
      "及格        \n",
      "True  86.5\n"
     ]
    }
   ],
   "source": [
    "# Pandas DataFrame 常用知识补充\n",
    "\n",
    "# 1. 选取多列\n",
    "print(\"选取姓名和成绩两列:\\n\", df[['姓名', '成绩']])\n",
    "\n",
    "# 2. 新增行\n",
    "new_row = {'姓名': '赵六', '年龄': 22, '成绩': 90, '及格': True}\n",
    "df_appended = pd.concat([df, pd.DataFrame([new_row])], ignore_index=True)\n",
    "print(\"\\n新增一行:\\n\", df_appended)\n",
    "\n",
    "# 3. 删除行或列\n",
    "print(\"\\n删除第 0 行:\\n\", df.drop(index=0))\n",
    "print(\"删除 '及格' 列:\\n\", df.drop(columns='及格'))\n",
    "\n",
    "# 4. 缺失值检测与删除\n",
    "print(\"\\n检测缺失值:\\n\", df.isnull())\n",
    "print(\"删除含缺失值的行:\\n\", df.dropna())\n",
    "\n",
    "# 5. 分组与聚合\n",
    "print(\"\\n按及格分组统计平均成绩:\\n\", df.groupby('及格')['成绩'].mean())\n",
    "\n",
    "# 6. 排序\n",
    "print(\"\\n按成绩降序排序:\\n\", df.sort_values(by='成绩', ascending=False))\n",
    "\n",
    "# 7. 重命名列\n",
    "print(\"\\n重命名列:\\n\", df.rename(columns={'姓名': 'Name', '成绩': 'Score'}))\n",
    "\n",
    "# 8. 设置索引\n",
    "print(\"\\n以姓名为索引:\\n\", df.set_index('姓名'))\n",
    "\n",
    "# 9. 透视表\n",
    "print(\"\\n透视表示例:\\n\", pd.pivot_table(df, values='成绩', index='及格', aggfunc='mean'))"
   ]
  },
  {
   "cell_type": "code",
   "execution_count": 11,
   "id": "1b07e4b0",
   "metadata": {},
   "outputs": [
    {
     "name": "stdout",
     "output_type": "stream",
     "text": [
      "一维数组: [1 2 3 4 5]\n",
      "二维数组:\n",
      " [[1 2 3]\n",
      " [4 5 6]]\n",
      "全零数组:\n",
      " [[0. 0. 0.]\n",
      " [0. 0. 0.]]\n",
      "全一数组:\n",
      " [[1. 1. 1.]\n",
      " [1. 1. 1.]]\n",
      "arange: [0 2 4 6 8]\n",
      "linspace: [0.   0.25 0.5  0.75 1.  ]\n",
      "形状: (2, 3)\n",
      "维度: 2\n",
      "数据类型: int64\n",
      "加法: [11 12 13 14 15]\n",
      "乘法: [ 2  4  6  8 10]\n",
      "数组求和: 15\n",
      "最大值: 5\n",
      "均值: 3.0\n",
      "第 2 个元素: 2\n",
      "前 3 个元素: [1 2 3]\n",
      "二维数组第 1 行: [1 2 3]\n",
      "二维数组第 2 列: [2 5]\n",
      "大于 2 的元素: [3 4 5]\n",
      "平方根: [1.         1.41421356 1.73205081 2.         2.23606798]\n",
      "正弦: [ 0.84147098  0.90929743  0.14112001 -0.7568025  -0.95892427]\n",
      "矩阵转置:\n",
      " [[1 4]\n",
      " [2 5]\n",
      " [3 6]]\n"
     ]
    }
   ],
   "source": [
    "# NumPy 基础知识\n",
    "\n",
    "# 1. 创建数组\n",
    "arr = np.array([1, 2, 3, 4, 5])\n",
    "print(\"一维数组:\", arr)\n",
    "\n",
    "arr2d = np.array([[1, 2, 3], [4, 5, 6]])\n",
    "print(\"二维数组:\\n\", arr2d)\n",
    "\n",
    "# 2. 常用数组生成函数\n",
    "zeros = np.zeros((2, 3))\n",
    "ones = np.ones((2, 3))\n",
    "arange = np.arange(0, 10, 2)\n",
    "linspace = np.linspace(0, 1, 5)\n",
    "print(\"全零数组:\\n\", zeros)\n",
    "print(\"全一数组:\\n\", ones)\n",
    "print(\"arange:\", arange)\n",
    "print(\"linspace:\", linspace)\n",
    "\n",
    "# 3. 数组属性\n",
    "print(\"形状:\", arr2d.shape)\n",
    "print(\"维度:\", arr2d.ndim)\n",
    "print(\"数据类型:\", arr2d.dtype)\n",
    "\n",
    "# 4. 基本运算\n",
    "print(\"加法:\", arr + 10)\n",
    "print(\"乘法:\", arr * 2)\n",
    "print(\"数组求和:\", arr.sum())\n",
    "print(\"最大值:\", arr.max())\n",
    "print(\"均值:\", arr.mean())\n",
    "\n",
    "# 5. 索引与切片\n",
    "print(\"第 2 个元素:\", arr[1])\n",
    "print(\"前 3 个元素:\", arr[:3])\n",
    "print(\"二维数组第 1 行:\", arr2d[0])\n",
    "print(\"二维数组第 2 列:\", arr2d[:, 1])\n",
    "\n",
    "# 6. 布尔索引与条件筛选\n",
    "print(\"大于 2 的元素:\", arr[arr > 2])\n",
    "\n",
    "# 7. 常用函数\n",
    "print(\"平方根:\", np.sqrt(arr))\n",
    "print(\"正弦:\", np.sin(arr))\n",
    "print(\"矩阵转置:\\n\", arr2d.T)"
   ]
  },
  {
   "cell_type": "code",
   "execution_count": 12,
   "id": "1007bba2",
   "metadata": {},
   "outputs": [
    {
     "name": "stdout",
     "output_type": "stream",
     "text": [
      "reshape 后: [[1 2 3 4 5]]\n",
      "拼接: [1 2 3 4 5 1 2 3 4 5]\n",
      "分割: [array([1]), array([2]), array([3]), array([4]), array([5])]\n",
      "广播加法: [11 12 13 14 15]\n",
      "随机数组:\n",
      " [[0.48490294 0.90194804 0.90929341]\n",
      " [0.60658976 0.14464025 0.30105074]\n",
      " [0.30001978 0.17377231 0.43461852]]\n",
      "排序: [1 2 3 4 5]\n",
      "唯一值: [1 2 3 4 5]\n",
      "标准差: 1.4142135623730951\n",
      "中位数: 3.0\n",
      "条件替换: [  1   2   3 100 100]\n",
      "矩阵乘法:\n",
      " [[14 32]\n",
      " [32 77]]\n"
     ]
    }
   ],
   "source": [
    "# NumPy 进阶常用知识补充\n",
    "\n",
    "# 1. 数组形状变换\n",
    "arr_reshape = arr.reshape((1, 5))  # 改变形状\n",
    "print(\"reshape 后:\", arr_reshape)\n",
    "\n",
    "# 2. 数组拼接与分割\n",
    "arr_concat = np.concatenate([arr, arr])  # 拼接\n",
    "print(\"拼接:\", arr_concat)\n",
    "arr_split = np.split(arr, 5)  # 分割\n",
    "print(\"分割:\", arr_split)\n",
    "\n",
    "# 3. 广播机制\n",
    "arr_broadcast = arr + np.array([10])  # 自动扩展\n",
    "print(\"广播加法:\", arr_broadcast)\n",
    "\n",
    "# 4. 随机数生成\n",
    "rand_arr = np.random.rand(3, 3)  # 0-1 之间随机数\n",
    "print(\"随机数组:\\n\", rand_arr)\n",
    "\n",
    "# 5. 排序与唯一值\n",
    "arr_sorted = np.sort(arr)\n",
    "print(\"排序:\", arr_sorted)\n",
    "arr_unique = np.unique(arr_concat)\n",
    "print(\"唯一值:\", arr_unique)\n",
    "\n",
    "# 6. 统计函数\n",
    "print(\"标准差:\", arr.std())\n",
    "print(\"中位数:\", np.median(arr))\n",
    "\n",
    "# 7. 条件替换\n",
    "arr_where = np.where(arr > 3, 100, arr)\n",
    "print(\"条件替换:\", arr_where)\n",
    "\n",
    "# 8. 矩阵乘法\n",
    "matmul = arr2d @ arr2d.T\n",
    "print(\"矩阵乘法:\\n\", matmul)"
   ]
  },
  {
   "cell_type": "code",
   "execution_count": null,
   "id": "dfa988d5",
   "metadata": {},
   "outputs": [],
   "source": []
  },
  {
   "cell_type": "code",
   "execution_count": null,
   "id": "cfea20a1",
   "metadata": {},
   "outputs": [
    {
     "name": "stdout",
     "output_type": "stream",
     "text": [
      "<class 'int'>\n"
     ]
    }
   ],
   "source": [
    "# 一、查看数据类型\n",
    "# 使用 type() 函数可以查看变量或值的数据类型：\n",
    "\n",
    "# python\n",
    "# 运行\n",
    "# 基本数据类型\n",
    "a = 10\n",
    "print(type(a))  # <class 'int'>（整数）"
   ]
  },
  {
   "cell_type": "code",
   "execution_count": 1,
   "id": "b7c75fd3",
   "metadata": {},
   "outputs": [
    {
     "name": "stdout",
     "output_type": "stream",
     "text": [
      "<class 'float'>\n"
     ]
    }
   ],
   "source": [
    "b = 3.14\n",
    "print(type(b))  # <class 'float'>（浮点数）"
   ]
  },
  {
   "cell_type": "code",
   "execution_count": 2,
   "id": "8740dd4a",
   "metadata": {},
   "outputs": [
    {
     "name": "stdout",
     "output_type": "stream",
     "text": [
      "<class 'str'>\n"
     ]
    }
   ],
   "source": [
    "c = \"hello\"\n",
    "print(type(c))  # <class 'str'>（字符串）"
   ]
  },
  {
   "cell_type": "code",
   "execution_count": 3,
   "id": "e3443acd",
   "metadata": {},
   "outputs": [
    {
     "name": "stdout",
     "output_type": "stream",
     "text": [
      "<class 'bool'>\n"
     ]
    }
   ],
   "source": [
    "d = True\n",
    "print(type(d))  # <class 'bool'>（布尔值）"
   ]
  },
  {
   "cell_type": "code",
   "execution_count": 4,
   "id": "ea0144a4",
   "metadata": {},
   "outputs": [
    {
     "name": "stdout",
     "output_type": "stream",
     "text": [
      "<class 'list'>\n"
     ]
    }
   ],
   "source": [
    "# 容器类型\n",
    "e = [1, 2, 3]\n",
    "print(type(e))  # <class 'list'>（列表）"
   ]
  },
  {
   "cell_type": "code",
   "execution_count": 5,
   "id": "e43b84c7",
   "metadata": {},
   "outputs": [
    {
     "name": "stdout",
     "output_type": "stream",
     "text": [
      "<class 'tuple'>\n"
     ]
    }
   ],
   "source": [
    "f = (1, 2, 3)\n",
    "print(type(f))  # <class 'tuple'>（元组）"
   ]
  },
  {
   "cell_type": "code",
   "execution_count": 6,
   "id": "9095ed35",
   "metadata": {},
   "outputs": [
    {
     "name": "stdout",
     "output_type": "stream",
     "text": [
      "<class 'dict'>\n"
     ]
    }
   ],
   "source": [
    "g = {\"name\": \"Alice\"}\n",
    "print(type(g))  # <class 'dict'>（字典）"
   ]
  },
  {
   "cell_type": "code",
   "execution_count": 7,
   "id": "16d45268",
   "metadata": {},
   "outputs": [
    {
     "name": "stdout",
     "output_type": "stream",
     "text": [
      "<class 'pandas.core.series.Series'>\n"
     ]
    }
   ],
   "source": [
    "# pandas 数据类型\n",
    "import pandas as pd\n",
    "s = pd.Series([1, 2, 3])\n",
    "print(type(s))  # <class 'pandas.core.series.Series'>（Series）"
   ]
  },
  {
   "cell_type": "code",
   "execution_count": 8,
   "id": "b38a6e5d",
   "metadata": {},
   "outputs": [
    {
     "name": "stdout",
     "output_type": "stream",
     "text": [
      "<class 'pandas.core.frame.DataFrame'>\n"
     ]
    }
   ],
   "source": [
    "df = pd.DataFrame({\"A\": [1, 2]})\n",
    "print(type(df))  # <class 'pandas.core.frame.DataFrame'>（DataFrame）"
   ]
  },
  {
   "cell_type": "code",
   "execution_count": 9,
   "id": "8d7999ac",
   "metadata": {},
   "outputs": [
    {
     "name": "stdout",
     "output_type": "stream",
     "text": [
      "A    int64\n",
      "dtype: object\n",
      "int64\n"
     ]
    }
   ],
   "source": [
    "# 查看 pandas 列的数据类型\n",
    "print(df.dtypes)  # A    int64（查看DataFrame各列类型）\n",
    "print(s.dtype)    # int64（查看Series元素类型）"
   ]
  },
  {
   "cell_type": "code",
   "execution_count": 12,
   "id": "f1cba3a6",
   "metadata": {},
   "outputs": [
    {
     "name": "stdout",
     "output_type": "stream",
     "text": [
      "False\n",
      "True\n",
      "True\n",
      "1\n",
      "0.0\n"
     ]
    }
   ],
   "source": [
    "# 二、转换数据类型\n",
    "# 使用 Python 内置的类型转换函数，或 pandas 提供的方法进行类型转换：\n",
    "# 1. 基本数据类型转换\n",
    "# python\n",
    "# 运行\n",
    "# 字符串转整数/浮点数\n",
    "num_str = \"123\"\n",
    "num_int = int(num_str)       # 转换为整数：123\n",
    "num_float = float(num_str)   # 转换为浮点数：123.0\n",
    "\n",
    "# 整数/浮点数转字符串\n",
    "num = 456\n",
    "num_to_str = str(num)        # 转换为字符串：\"456\"\n",
    "\n",
    "# 数值转布尔值（0/0.0 转为 False，其他为 True）\n",
    "print(bool(0))       # False\n",
    "print(bool(1))       # True\n",
    "print(bool(3.14))    # True\n",
    "\n",
    "# 布尔值转数值（True=1，False=0）\n",
    "print(int(True))     # 1\n",
    "print(float(False))  # 0.0\n"
   ]
  },
  {
   "cell_type": "code",
   "execution_count": 11,
   "id": "53bf4a19",
   "metadata": {},
   "outputs": [],
   "source": [
    "# 2. 容器类型转换\n",
    "# python\n",
    "# 运行\n",
    "# 列表与元组互转\n",
    "my_list = [1, 2, 3]\n",
    "my_tuple = tuple(my_list)  # 列表转元组：(1, 2, 3)\n",
    "my_list2 = list(my_tuple)  # 元组转列表：[1, 2, 3]\n",
    "\n",
    "# 列表/元组转集合（去重且无序）\n",
    "my_set = set(my_list)      # 列表转集合：{1, 2, 3}\n",
    "\n",
    "# 字典相关转换（获取键/值列表）\n",
    "my_dict = {\"a\": 1, \"b\": 2}\n",
    "keys_list = list(my_dict.keys())    # 键转列表：['a', 'b']\n",
    "values_list = list(my_dict.values())# 值转列表：[1, 2]\n"
   ]
  },
  {
   "cell_type": "code",
   "execution_count": 10,
   "id": "793a0a86",
   "metadata": {},
   "outputs": [
    {
     "name": "stdout",
     "output_type": "stream",
     "text": [
      "A     object\n",
      "B    float64\n",
      "C       bool\n",
      "dtype: object\n",
      "A     int64\n",
      "B     int64\n",
      "C    object\n",
      "dtype: object\n",
      "datetime64[ns]\n"
     ]
    }
   ],
   "source": [
    "# 3. pandas 数据类型转换\n",
    "# 在 pandas 中，常用 astype() 方法转换 Series 或 DataFrame 列的类型：\n",
    "\n",
    "# python\n",
    "# 运行\n",
    "import pandas as pd\n",
    "\n",
    "# 创建示例 DataFrame\n",
    "df = pd.DataFrame({\n",
    "    \"A\": [\"1\", \"2\", \"3\"],       # 字符串类型\n",
    "    \"B\": [1.5, 2.5, 3.5],       # 浮点数类型\n",
    "    \"C\": [True, False, True]    # 布尔类型\n",
    "})\n",
    "\n",
    "# 查看原始类型\n",
    "print(df.dtypes)\n",
    "# A    object（字符串在pandas中显示为object）\n",
    "# B    float64\n",
    "# C      bool\n",
    "# dtype: object\n",
    "\n",
    "# 转换列的类型\n",
    "df[\"A\"] = df[\"A\"].astype(int)          # 字符串列转整数\n",
    "df[\"B\"] = df[\"B\"].astype(int)          # 浮点数转整数（截断小数）\n",
    "df[\"C\"] = df[\"C\"].astype(str)          # 布尔值转字符串\n",
    "\n",
    "# 转换后的数据类型\n",
    "print(df.dtypes)\n",
    "# A      int64\n",
    "# B      int64\n",
    "# C     object\n",
    "# dtype: object\n",
    "\n",
    "# 特殊转换：字符串转日期（使用to_datetime）\n",
    "df[\"date_str\"] = [\"2023-01-01\", \"2023-01-02\", \"2023-01-03\"]\n",
    "df[\"date\"] = pd.to_datetime(df[\"date_str\"])  # 字符串转日期类型\n",
    "print(df[\"date\"].dtype)  # datetime64[ns]"
   ]
  }
 ],
 "metadata": {
  "kernelspec": {
   "display_name": ".v (3.13.3)",
   "language": "python",
   "name": "python3"
  },
  "language_info": {
   "codemirror_mode": {
    "name": "ipython",
    "version": 3
   },
   "file_extension": ".py",
   "mimetype": "text/x-python",
   "name": "python",
   "nbconvert_exporter": "python",
   "pygments_lexer": "ipython3",
   "version": "3.13.3"
  }
 },
 "nbformat": 4,
 "nbformat_minor": 5
}
